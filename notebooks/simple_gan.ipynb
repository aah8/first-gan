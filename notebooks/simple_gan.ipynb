{
 "cells": [
  {
   "cell_type": "code",
   "execution_count": 1,
   "id": "afe785c1",
   "metadata": {},
   "outputs": [],
   "source": [
    "import sys\n",
    "import torch\n",
    "from torch import nn\n",
    "\n",
    "import math\n",
    "import matplotlib.pyplot as plt"
   ]
  },
  {
   "cell_type": "code",
   "execution_count": 2,
   "id": "9a2ee608",
   "metadata": {},
   "outputs": [
    {
     "data": {
      "text/plain": [
       "<torch._C.Generator at 0x105b94c90>"
      ]
     },
     "execution_count": 2,
     "metadata": {},
     "output_type": "execute_result"
    }
   ],
   "source": [
    "torch.manual_seed(111)"
   ]
  },
  {
   "cell_type": "markdown",
   "id": "d5be5ff7",
   "metadata": {},
   "source": [
    "# Create and visualize training data"
   ]
  },
  {
   "cell_type": "code",
   "execution_count": 3,
   "id": "e493ba9d",
   "metadata": {},
   "outputs": [],
   "source": [
    "# prepare training data\n",
    "train_data_len = 1024\n",
    "train_data = torch.zeros(train_data_len,2) # initialize tensors\n",
    "train_data[:,0] = 2 * math.pi * torch.rand(train_data_len) # store random values in the interval [0,2*pi]\n",
    "train_data[:,1] = torch.sin(train_data[:, 0]) # sin of first tensor\n",
    "train_labels = torch.zeros(train_data_len)\n",
    "train_set = [(train_data[i], train_labels[i]) for i in range(train_data_len)]"
   ]
  },
  {
   "cell_type": "code",
   "execution_count": 4,
   "id": "e67d1eac",
   "metadata": {},
   "outputs": [
    {
     "data": {
      "text/plain": [
       "[<matplotlib.lines.Line2D at 0x137866580>]"
      ]
     },
     "execution_count": 4,
     "metadata": {},
     "output_type": "execute_result"
    },
    {
     "data": {
      "image/png": "[encoded data removed]",
      "text/plain": [
       "<Figure size 600x600 with 1 Axes>"
      ]
     },
     "metadata": {},
     "output_type": "display_data"
    }
   ],
   "source": [
    "# examine the training data\n",
    "\n",
    "fig, ax = plt.subplots(1,1,figsize=(6,6))\n",
    "\n",
    "ax.plot(train_data[:, 0], train_data[:, 1], \".\")"
   ]
  },
  {
   "cell_type": "code",
   "execution_count": 5,
   "id": "269e9b36",
   "metadata": {},
   "outputs": [],
   "source": [
    "# create a pytorch data loader\n",
    "batch_size = 32\n",
    "train_loader = torch.utils.data.DataLoader(train_set, batch_size=batch_size, shuffle=True)"
   ]
  },
  {
   "cell_type": "markdown",
   "id": "6c1cd75c",
   "metadata": {},
   "source": [
    "# Define discriminator and generator models"
   ]
  },
  {
   "cell_type": "code",
   "execution_count": 6,
   "id": "da8298f4",
   "metadata": {},
   "outputs": [],
   "source": [
    "# implement discriminator: a model that receives samples from real data or from the generator\n",
    "# and provides probability that it belongs to the real training data\n",
    "\n",
    "class Discriminator(nn.Module):\n",
    "    def __init__(self):\n",
    "        super().__init__()\n",
    "        self.model = nn.Sequential(nn.Linear(2, 256), #2-dimensional input, first hidden layer has 256 neurons\n",
    "                                    nn.ReLU(), # all hidden layers have ReLU activation function\n",
    "                                    nn.Dropout(0.3), # dropout layers after each hidden layer to avoid overfitting\n",
    "                                    nn.Linear(256, 128), # second hidden layer, 128 neurons\n",
    "                                    nn.ReLU(),\n",
    "                                    nn.Dropout(0.3),\n",
    "                                    nn.Linear(128, 64), # third hidden layer, 64 neurons\n",
    "                                    nn.ReLU(),\n",
    "                                    nn.Dropout(0.3),\n",
    "                                    nn.Linear(64, 1),\n",
    "                                    nn.Sigmoid(),\n",
    "                                    )\n",
    "    def forward(self, x):\n",
    "        output = self.model(x)\n",
    "        return output"
   ]
  },
  {
   "cell_type": "code",
   "execution_count": 7,
   "id": "6c202f3a",
   "metadata": {},
   "outputs": [],
   "source": [
    "# implement generator: a model that takes samples as input and generates data resemling the data in the training set\n",
    "\n",
    "class Generator(nn.Module):\n",
    "    def __init__(self):\n",
    "        super(Generator, self).__init__()\n",
    "        self.model = nn.Sequential(nn.Linear(2, 16), #2-dimensional input, first hidden layer has 256 neurons\n",
    "                                    nn.ReLU(), # all hidden layers have ReLU activation function\n",
    "                                    nn.Linear(16, 32), # second hidden layer, 128 neurons\n",
    "                                    nn.ReLU(),\n",
    "                                    nn.Linear(32, 2)\n",
    "                                  )\n",
    "        \n",
    "    def forward(self, x):\n",
    "        output = self.model(x)\n",
    "        return output"
   ]
  },
  {
   "cell_type": "markdown",
   "id": "ddf77373",
   "metadata": {},
   "source": [
    "# Training the models"
   ]
  },
  {
   "cell_type": "code",
   "execution_count": 8,
   "id": "72ed2e79",
   "metadata": {},
   "outputs": [],
   "source": [
    "# initialize empty models\n",
    "discriminator = Discriminator()\n",
    "generator = Generator()"
   ]
  },
  {
   "cell_type": "code",
   "execution_count": 9,
   "id": "32e4a7dd",
   "metadata": {},
   "outputs": [],
   "source": [
    "# define model parameters\n",
    "lr = 0.001\n",
    "num_epochs = 300\n",
    "loss_function = nn.BCELoss() # binary cross-entropy loss"
   ]
  },
  {
   "cell_type": "code",
   "execution_count": 10,
   "id": "3c8d8159",
   "metadata": {},
   "outputs": [],
   "source": [
    "# define optimizers for each model\n",
    "optimizer_discriminator = torch.optim.Adam(discriminator.parameters(), lr=lr)\n",
    "optimizer_generator = torch.optim.Adam(generator.parameters(), lr=lr)"
   ]
  },
  {
   "cell_type": "code",
   "execution_count": 11,
   "id": "4d9a255a",
   "metadata": {},
   "outputs": [
    {
     "name": "stdout",
     "output_type": "stream",
     "text": [
      "Epoch: 0 Loss Discriminator: 0.19106775522232056\n",
      "Epoch: 0 Loss Generator: 1.8886789083480835\n",
      "Epoch: 10 Loss Discriminator: 0.6589420437812805\n",
      "Epoch: 10 Loss Generator: 0.9346314072608948\n",
      "Epoch: 20 Loss Discriminator: 0.6484917402267456\n",
      "Epoch: 20 Loss Generator: 0.9305144548416138\n",
      "Epoch: 30 Loss Discriminator: 0.6232972741127014\n",
      "Epoch: 30 Loss Generator: 0.8461633920669556\n",
      "Epoch: 40 Loss Discriminator: 0.6152937412261963\n",
      "Epoch: 40 Loss Generator: 0.7221050262451172\n",
      "Epoch: 50 Loss Discriminator: 0.6340388655662537\n",
      "Epoch: 50 Loss Generator: 0.8965965509414673\n",
      "Epoch: 60 Loss Discriminator: 0.6844289898872375\n",
      "Epoch: 60 Loss Generator: 0.7352980971336365\n",
      "Epoch: 70 Loss Discriminator: 0.6809797286987305\n",
      "Epoch: 70 Loss Generator: 0.6965097188949585\n",
      "Epoch: 80 Loss Discriminator: 0.6557415723800659\n",
      "Epoch: 80 Loss Generator: 0.7019643783569336\n",
      "Epoch: 90 Loss Discriminator: 0.6967378258705139\n",
      "Epoch: 90 Loss Generator: 0.7134181261062622\n",
      "Epoch: 100 Loss Discriminator: 0.6520562767982483\n",
      "Epoch: 100 Loss Generator: 0.7474939823150635\n",
      "Epoch: 110 Loss Discriminator: 0.6691002249717712\n",
      "Epoch: 110 Loss Generator: 0.7221989631652832\n",
      "Epoch: 120 Loss Discriminator: 0.6482950448989868\n",
      "Epoch: 120 Loss Generator: 0.7819017171859741\n",
      "Epoch: 130 Loss Discriminator: 0.7277350425720215\n",
      "Epoch: 130 Loss Generator: 0.6984883546829224\n",
      "Epoch: 140 Loss Discriminator: 0.6549515724182129\n",
      "Epoch: 140 Loss Generator: 0.9668849110603333\n",
      "Epoch: 150 Loss Discriminator: 0.6081223487854004\n",
      "Epoch: 150 Loss Generator: 1.0822447538375854\n",
      "Epoch: 160 Loss Discriminator: 0.7639392018318176\n",
      "Epoch: 160 Loss Generator: 0.7842760682106018\n",
      "Epoch: 170 Loss Discriminator: 0.6564584374427795\n",
      "Epoch: 170 Loss Generator: 0.8849179744720459\n",
      "Epoch: 180 Loss Discriminator: 0.6492422223091125\n",
      "Epoch: 180 Loss Generator: 0.8306602239608765\n",
      "Epoch: 190 Loss Discriminator: 0.6726573705673218\n",
      "Epoch: 190 Loss Generator: 0.7550075054168701\n",
      "Epoch: 200 Loss Discriminator: 0.6474152207374573\n",
      "Epoch: 200 Loss Generator: 0.7547818422317505\n",
      "Epoch: 210 Loss Discriminator: 0.6448147892951965\n",
      "Epoch: 210 Loss Generator: 0.8482127785682678\n",
      "Epoch: 220 Loss Discriminator: 0.5851061940193176\n",
      "Epoch: 220 Loss Generator: 0.8758459091186523\n",
      "Epoch: 230 Loss Discriminator: 0.7044974565505981\n",
      "Epoch: 230 Loss Generator: 0.7099020481109619\n",
      "Epoch: 240 Loss Discriminator: 0.6039416193962097\n",
      "Epoch: 240 Loss Generator: 0.8516138195991516\n",
      "Epoch: 250 Loss Discriminator: 0.7411399483680725\n",
      "Epoch: 250 Loss Generator: 0.7468866109848022\n",
      "Epoch: 260 Loss Discriminator: 0.6468324065208435\n",
      "Epoch: 260 Loss Generator: 1.0685909986495972\n",
      "Epoch: 270 Loss Discriminator: 0.6307434439659119\n",
      "Epoch: 270 Loss Generator: 0.8453288674354553\n",
      "Epoch: 280 Loss Discriminator: 0.6285979747772217\n",
      "Epoch: 280 Loss Generator: 0.8533032536506653\n",
      "Epoch: 290 Loss Discriminator: 0.7102083563804626\n",
      "Epoch: 290 Loss Generator: 0.7549158334732056\n"
     ]
    }
   ],
   "source": [
    "for epoch in range(num_epochs):\n",
    "    for n, (real_samples, _) in enumerate(train_loader):\n",
    "        \n",
    "        # data for training the discriminator\n",
    "        real_samples_labels = torch.ones((batch_size,1))\n",
    "        latent_space_samples = torch.randn((batch_size, 2))\n",
    "        \n",
    "        generated_samples = generator(latent_space_samples)\n",
    "        generated_samples_labels = torch.zeros((batch_size,1))\n",
    "        \n",
    "        all_samples = torch.cat((real_samples, generated_samples))\n",
    "        all_samples_labels = torch.cat((real_samples_labels, generated_samples_labels))\n",
    "        \n",
    "        # train discriminator\n",
    "        discriminator.zero_grad()\n",
    "        output_discriminator = discriminator(all_samples)\n",
    "        loss_discriminator = loss_function(output_discriminator, all_samples_labels)\n",
    "        loss_discriminator.backward()\n",
    "        optimizer_discriminator.step()\n",
    "        \n",
    "        # data for training the generator\n",
    "        latent_space_samples = torch.randn((batch_size, 2))\n",
    "        \n",
    "        generator.zero_grad() \n",
    "        generated_samples = generator(latent_space_samples)\n",
    "        output_discriminator_generated = discriminator(generated_samples)\n",
    "        loss_generator = loss_function(output_discriminator_generated, real_samples_labels)\n",
    "        loss_generator.backward()\n",
    "        optimizer_generator.step()\n",
    "        \n",
    "        # show loss\n",
    "        if (epoch % 10 == 0) and (n == batch_size - 1):\n",
    "            print(f\"Epoch: {epoch} Loss Discriminator: {loss_discriminator}\")\n",
    "            print(f\"Epoch: {epoch} Loss Generator: {loss_generator}\\n\")"
   ]
  },
  {
   "cell_type": "markdown",
   "id": "ad65339d",
   "metadata": {},
   "source": [
    "# Visualize generated samples"
   ]
  },
  {
   "cell_type": "code",
   "execution_count": 12,
   "id": "c6197e60",
   "metadata": {},
   "outputs": [],
   "source": [
    "latent_space_samples = torch.randn(100,2)\n",
    "generated_samples = generator(latent_space_samples)"
   ]
  },
  {
   "cell_type": "code",
   "execution_count": 16,
   "id": "7d4568bc",
   "metadata": {},
   "outputs": [
    {
     "data": {
      "text/plain": [
       "[<matplotlib.lines.Line2D at 0x137f16640>]"
      ]
     },
     "execution_count": 16,
     "metadata": {},
     "output_type": "execute_result"
    },
    {
     "data": {
      "image/png": "[encoded data removed]",
      "text/plain": [
       "<Figure size 600x600 with 1 Axes>"
      ]
     },
     "metadata": {},
     "output_type": "display_data"
    }
   ],
   "source": [
    "generated_samples = generated_samples.detach() # detach tensor from pytorch computational graph\n",
    "\n",
    "fig, ax = plt.subplots(1,1,figsize=(6,6))\n",
    "ax.plot(train_data[:, 0], train_data[:, 1], \".\", alpha=0.1, color=\"blue\") # original data\n",
    "ax.plot(generated_samples[:, 0], generated_samples[:, 1], \".\", color=\"red\") # generated data"
   ]
  },
  {
   "cell_type": "code",
   "execution_count": null,
   "id": "56fb333a",
   "metadata": {},
   "outputs": [],
   "source": []
  }
 ],
 "metadata": {
  "kernelspec": {
   "display_name": "Python 3 (ipykernel)",
   "language": "python",
   "name": "python3"
  },
  "language_info": {
   "codemirror_mode": {
    "name": "ipython",
    "version": 3
   },
   "file_extension": ".py",
   "mimetype": "text/x-python",
   "name": "python",
   "nbconvert_exporter": "python",
   "pygments_lexer": "ipython3",
   "version": "3.8.16"
  }
 },
 "nbformat": 4,
 "nbformat_minor": 5
}
